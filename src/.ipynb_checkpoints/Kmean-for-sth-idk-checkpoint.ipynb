{
 "cells": [
  {
   "cell_type": "code",
   "execution_count": 1,
   "metadata": {},
   "outputs": [],
   "source": [
    "import numpy as np\n",
    "import os\n",
    "from scipy import signal\n",
    "# from geometric_median import geometric_median\n",
    "import mne\n",
    "import matplotlib.pyplot as plt"
   ]
  },
  {
   "cell_type": "code",
   "execution_count": 2,
   "metadata": {},
   "outputs": [],
   "source": [
    "__input_path = '../data/'\n",
    "emotions = ['Happiness', 'Fear', 'Excitement', \\\n",
    "              'Arousal', 'Valence', 'Reward']"
   ]
  },
  {
   "cell_type": "code",
   "execution_count": 3,
   "metadata": {},
   "outputs": [],
   "source": [
    "label = np.load(os.path.join(__input_path, 'result.npy'))       "
   ]
  },
  {
   "cell_type": "code",
   "execution_count": 4,
   "metadata": {},
   "outputs": [
    {
     "name": "stdout",
     "output_type": "stream",
     "text": [
      "save results: Happiness (1, 180)\n",
      "save results: Fear (1, 180)\n",
      "save results: Excitement (1, 180)\n",
      "save results: Arousal (1, 180)\n",
      "save results: Valence (1, 180)\n",
      "save results: Reward (1, 180)\n"
     ]
    }
   ],
   "source": [
    "for i, emo in enumerate(emotions):\n",
    "    label_res = label[:,:,i].reshape(1, -1)\n",
    "    #label_res = label_res[0]\n",
    "    print 'save results:', emo, label_res.shape\n",
    "    #print label_res\n",
    "    np.save(os.path.join('../Kmean/', 'result_' + emo + '.npy'), label_res)"
   ]
  },
  {
   "cell_type": "code",
   "execution_count": 5,
   "metadata": {},
   "outputs": [
    {
     "name": "stdout",
     "output_type": "stream",
     "text": [
      "(180, 1)\n",
      "[[3]\n",
      " [3]\n",
      " [5]\n",
      " [1]\n",
      " [3]\n",
      " [3]\n",
      " [5]\n",
      " [2]\n",
      " [3]\n",
      " [4]\n",
      " [7]\n",
      " [6]\n",
      " [5]\n",
      " [5]\n",
      " [5]\n",
      " [5]\n",
      " [5]\n",
      " [6]\n",
      " [3]\n",
      " [6]\n",
      " [5]\n",
      " [2]\n",
      " [2]\n",
      " [5]\n",
      " [5]\n",
      " [3]\n",
      " [4]\n",
      " [2]\n",
      " [2]\n",
      " [3]\n",
      " [2]\n",
      " [3]\n",
      " [4]\n",
      " [3]\n",
      " [2]\n",
      " [4]\n",
      " [2]\n",
      " [5]\n",
      " [6]\n",
      " [5]\n",
      " [2]\n",
      " [4]\n",
      " [5]\n",
      " [3]\n",
      " [2]\n",
      " [2]\n",
      " [5]\n",
      " [4]\n",
      " [6]\n",
      " [2]\n",
      " [2]\n",
      " [4]\n",
      " [3]\n",
      " [5]\n",
      " [1]\n",
      " [2]\n",
      " [1]\n",
      " [1]\n",
      " [1]\n",
      " [1]\n",
      " [1]\n",
      " [1]\n",
      " [2]\n",
      " [1]\n",
      " [1]\n",
      " [2]\n",
      " [1]\n",
      " [1]\n",
      " [1]\n",
      " [2]\n",
      " [1]\n",
      " [2]\n",
      " [4]\n",
      " [5]\n",
      " [6]\n",
      " [5]\n",
      " [4]\n",
      " [3]\n",
      " [6]\n",
      " [6]\n",
      " [5]\n",
      " [3]\n",
      " [4]\n",
      " [5]\n",
      " [3]\n",
      " [3]\n",
      " [3]\n",
      " [4]\n",
      " [3]\n",
      " [4]\n",
      " [5]\n",
      " [6]\n",
      " [5]\n",
      " [7]\n",
      " [5]\n",
      " [5]\n",
      " [8]\n",
      " [2]\n",
      " [7]\n",
      " [3]\n",
      " [3]\n",
      " [4]\n",
      " [4]\n",
      " [3]\n",
      " [2]\n",
      " [4]\n",
      " [5]\n",
      " [5]\n",
      " [2]\n",
      " [4]\n",
      " [4]\n",
      " [2]\n",
      " [3]\n",
      " [1]\n",
      " [5]\n",
      " [6]\n",
      " [6]\n",
      " [1]\n",
      " [4]\n",
      " [2]\n",
      " [1]\n",
      " [1]\n",
      " [1]\n",
      " [2]\n",
      " [3]\n",
      " [4]\n",
      " [1]\n",
      " [2]\n",
      " [4]\n",
      " [1]\n",
      " [1]\n",
      " [1]\n",
      " [2]\n",
      " [4]\n",
      " [3]\n",
      " [2]\n",
      " [4]\n",
      " [3]\n",
      " [7]\n",
      " [4]\n",
      " [3]\n",
      " [4]\n",
      " [5]\n",
      " [8]\n",
      " [7]\n",
      " [7]\n",
      " [7]\n",
      " [6]\n",
      " [7]\n",
      " [6]\n",
      " [8]\n",
      " [6]\n",
      " [9]\n",
      " [2]\n",
      " [4]\n",
      " [4]\n",
      " [5]\n",
      " [3]\n",
      " [2]\n",
      " [4]\n",
      " [4]\n",
      " [6]\n",
      " [1]\n",
      " [2]\n",
      " [1]\n",
      " [3]\n",
      " [1]\n",
      " [1]\n",
      " [2]\n",
      " [3]\n",
      " [6]\n",
      " [1]\n",
      " [2]\n",
      " [3]\n",
      " [3]\n",
      " [2]\n",
      " [1]\n",
      " [2]\n",
      " [2]\n",
      " [5]]\n"
     ]
    }
   ],
   "source": [
    "from sklearn.cluster import KMeans\n",
    "import numpy as np\n",
    "Y = np.load(os.path.join('../Kmean/', 'result_Valence.npy'))   \n",
    "Z = np.load(os.path.join('../Kmean/', 'result_Arousal.npy')) \n",
    "#X = np.\n",
    "#print Y[0]\n",
    "X=zip(Z[0])\n",
    "#print Y[0].shape\n",
    "X=np.asarray(X)\n",
    "print X.shape\n",
    "\n",
    "kmeans = KMeans(n_clusters=2, random_state=0).fit(X)\n",
    "kmeans.labels_\n",
    "\n",
    "#kmeans.predict([[0, 0], [4, 4]])\n",
    "\n",
    "kmeans.cluster_centers_\n",
    "print(X)"
   ]
  },
  {
   "cell_type": "code",
   "execution_count": 6,
   "metadata": {},
   "outputs": [
    {
     "name": "stdout",
     "output_type": "stream",
     "text": [
      "[1 1 0 1 1 1 0 1 1 0 0 0 0 0 0 0 0 0 1 0 0 1 1 0 0 1 0 1 1 1 1 1 0 1 1 0 1\n",
      " 0 0 0 1 0 0 1 1 1 0 0 0 1 1 0 1 0 1 1 1 1 1 1 1 1 1 1 1 1 1 1 1 1 1 1 0 0\n",
      " 0 0 0 1 0 0 0 1 0 0 1 1 1 0 1 0 0 0 0 0 0 0 0 1 0 1 1 0 0 1 1 0 0 0 1 0 0\n",
      " 1 1 1 0 0 0 1 0 1 1 1 1 1 1 0 1 1 0 1 1 1 1 0 1 1 0 1 0 0 1 0 0 0 0 0 0 0\n",
      " 0 0 0 0 0 1 0 0 0 1 1 0 0 0 1 1 1 1 1 1 1 1 0 1 1 1 1 1 1 1 1 0]\n"
     ]
    }
   ],
   "source": [
    "c= (kmeans.predict(X))\n",
    "print (kmeans.predict(X))"
   ]
  },
  {
   "cell_type": "code",
   "execution_count": 7,
   "metadata": {},
   "outputs": [
    {
     "data": {
      "image/png": "[encoded data removed]",
      "text/plain": [
       "<Figure size 432x288 with 1 Axes>"
      ]
     },
     "metadata": {},
     "output_type": "display_data"
    }
   ],
   "source": [
    "a0=np.zeros([X.shape[0]])\n",
    "plt.scatter(X,a0,c=c);"
   ]
  },
  {
   "cell_type": "code",
   "execution_count": 8,
   "metadata": {},
   "outputs": [
    {
     "data": {
      "text/plain": [
       "85"
      ]
     },
     "execution_count": 8,
     "metadata": {},
     "output_type": "execute_result"
    }
   ],
   "source": [
    "np.count_nonzero(c == 0)"
   ]
  }
 ],
 "metadata": {
  "kernelspec": {
   "display_name": "Python 2",
   "language": "python",
   "name": "python2"
  },
  "language_info": {
   "codemirror_mode": {
    "name": "ipython",
    "version": 2
   },
   "file_extension": ".py",
   "mimetype": "text/x-python",
   "name": "python",
   "nbconvert_exporter": "python",
   "pygments_lexer": "ipython2",
   "version": "2.7.12"
  }
 },
 "nbformat": 4,
 "nbformat_minor": 2
}
