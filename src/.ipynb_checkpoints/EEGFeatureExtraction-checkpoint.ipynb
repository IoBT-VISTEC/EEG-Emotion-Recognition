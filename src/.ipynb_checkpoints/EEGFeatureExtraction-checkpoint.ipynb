{
 "cells": [
  {
   "cell_type": "code",
   "execution_count": null,
   "metadata": {},
   "outputs": [],
   "source": [
    "import numpy as np\n",
    "from scipy import signal\n",
    "import math\n",
    "from sklearn.preprocessing import MinMaxScaler"
   ]
  },
  {
   "cell_type": "code",
   "execution_count": null,
   "metadata": {},
   "outputs": [],
   "source": [
    "class EEGFeatureExtraction:\n",
    "    \n",
    "    def __init__(self, data_path, fs):\n",
    "        self.__data = np.load(data_path)\n",
    "        self.__fs = fs\n",
    "        self.__no_of_samples, self.__no_of_channels, self.__no_of_bands, self.__no_of_sampling = self.__data.shape\n",
    "        print (self.__data.shape)\n",
    "    \n",
    "    def start(self):\n",
    "        results = np.zeros(shape = (self.__no_of_samples, self.__no_of_channels * self.__no_of_bands))\n",
    "        for sample_id, sample in enumerate(self.__data):\n",
    "            for ch_id, channel in enumerate(sample):\n",
    "                for band_id, band in enumerate(channel):\n",
    "                    f, Pxx_den = signal.welch(band, self.__fs, nperseg=256, noverlap=128)\n",
    "                    #print Pxx_den.shape, Pxx_den\n",
    "                    \n",
    "                    \"\"\"\n",
    "                    import matplotlib.pyplot as plt\n",
    "                    plt.plot(Pxx_den)\n",
    "                    plt.show()\n",
    "                    print np.max(Pxx_den), math.log(np.max(Pxx_den))\n",
    "                    \"\"\"\n",
    "                \n",
    "                    results[sample_id][self.__no_of_bands*ch_id + band_id] = math.log(np.max(Pxx_den))\n",
    "\n",
    "        return results\n",
    "    \n",
    "    def save_to_numpy(self, features):\n",
    "        print ('save feature vector to numpy', features.shape)\n",
    "        np.save('../data/EEG/feature_extracted/EEG_ICA.npy', features)"
   ]
  },
  {
   "cell_type": "code",
   "execution_count": null,
   "metadata": {},
   "outputs": [],
   "source": [
    "eegFeatureExtraction = EEGFeatureExtraction(data_path = '.../data/EEG/preprocessed/EEG_ICA.npy', fs = 250)\n",
    "features = eegFeatureExtraction.start()\n",
    "eegFeatureExtraction.save_to_numpy(features)\n",
    "print (features)"
   ]
  },
  {
   "cell_type": "code",
   "execution_count": null,
   "metadata": {},
   "outputs": [],
   "source": []
  }
 ],
 "metadata": {
  "kernelspec": {
   "display_name": "Python 2",
   "language": "python",
   "name": "python2"
  },
  "language_info": {
   "codemirror_mode": {
    "name": "ipython",
    "version": 3
   },
   "file_extension": ".py",
   "mimetype": "text/x-python",
   "name": "python",
   "nbconvert_exporter": "python",
   "pygments_lexer": "ipython3",
   "version": "3.5.2"
  }
 },
 "nbformat": 4,
 "nbformat_minor": 2
}
